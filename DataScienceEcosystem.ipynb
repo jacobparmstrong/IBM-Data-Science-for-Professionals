{
 "cells": [
  {
   "cell_type": "markdown",
   "id": "9802100e",
   "metadata": {},
   "source": [
    "<h1>Data Science Tools and Ecosystem</h1>"
   ]
  },
  {
   "cell_type": "markdown",
   "id": "da1b9551",
   "metadata": {},
   "source": [
    "In this notebook, Data Science Tools and Ecosystem are summarized."
   ]
  },
  {
   "cell_type": "markdown",
   "id": "6896fa55",
   "metadata": {},
   "source": [
    "<b>Objectives:</b>\n",
    "\n",
    "<ul>\n",
    "<li>List popular languages for Data Science</li>\n",
    "<li>List commonly used libraries by Data Scientists</li>\n",
    "<li>List the key tools used in Data Science</li>\n",
    "</ul>"
   ]
  },
  {
   "cell_type": "markdown",
   "id": "ffdeeef6",
   "metadata": {},
   "source": [
    "Some of the popular languages that Data Scientists use are:\n",
    "<ol>\n",
    "    <li>Python</li>\n",
    "    <li>R</li>\n",
    "    <li>SQL</li>\n",
    "    <li>Java</li>\n",
    "</ol>"
   ]
  },
  {
   "cell_type": "markdown",
   "id": "bde8c80f",
   "metadata": {},
   "source": [
    "Some of the commonly used libraries used by Data Scientists include:\n",
    "\n",
    "<ol>\n",
    "    <li>sklearn</li>\n",
    "    <li>pandas</li>\n",
    "    <li>tensorflow</li>\n",
    "    <li>keras</li>\n",
    "</ol>"
   ]
  },
  {
   "cell_type": "markdown",
   "id": "ff947d68",
   "metadata": {},
   "source": [
    "| Data Science Tools |\n",
    "|-------|\n",
    "| Jupyter Notebook |\n",
    "| Apache Spark |\n",
    "| Apache Hadoop |"
   ]
  },
  {
   "cell_type": "markdown",
   "id": "e7b505da",
   "metadata": {},
   "source": [
    "<h3>Below are a few examples of evaluating arithmetic expressions in Python.</h3>"
   ]
  },
  {
   "cell_type": "code",
   "execution_count": 1,
   "id": "df2c893d",
   "metadata": {},
   "outputs": [
    {
     "name": "stdout",
     "output_type": "stream",
     "text": [
      "17\n"
     ]
    }
   ],
   "source": [
    "# This a simple arithmetic expression to mutiply then add integers.\n",
    "print((3*4)+5)"
   ]
  },
  {
   "cell_type": "code",
   "execution_count": 2,
   "id": "c7c473d5",
   "metadata": {},
   "outputs": [
    {
     "name": "stdout",
     "output_type": "stream",
     "text": [
      "3.3333333333333335\n"
     ]
    }
   ],
   "source": [
    "# This will convert 200 minutes to hours by diving by 60.\n",
    "print(200 / 60)"
   ]
  },
  {
   "cell_type": "markdown",
   "id": "1a030e80",
   "metadata": {},
   "source": [
    "<h2>Author</h2>\n",
    "Jacob"
   ]
  }
 ],
 "metadata": {
  "kernelspec": {
   "display_name": "Python 3",
   "language": "python",
   "name": "python3"
  },
  "language_info": {
   "codemirror_mode": {
    "name": "ipython",
    "version": 3
   },
   "file_extension": ".py",
   "mimetype": "text/x-python",
   "name": "python",
   "nbconvert_exporter": "python",
   "pygments_lexer": "ipython3",
   "version": "3.12.5"
  }
 },
 "nbformat": 4,
 "nbformat_minor": 5
}
